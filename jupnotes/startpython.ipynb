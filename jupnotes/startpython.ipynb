{
 "cells": [
  {
   "cell_type": "markdown",
   "metadata": {},
   "source": [
    "### Intro to Python, YES!"
   ]
  },
  {
   "cell_type": "code",
   "execution_count": 2,
   "metadata": {
    "collapsed": false
   },
   "outputs": [
    {
     "name": "stdout",
     "output_type": "stream",
     "text": [
      "hello python3\n"
     ]
    }
   ],
   "source": [
    "# hello world python, this is a comment\n",
    "\n",
    "def main():\n",
    "    print(\"hello python\")\n",
    "    \n",
    "if __name__ == \"__main__\":\n",
    "    main()"
   ]
  },
  {
   "cell_type": "markdown",
   "metadata": {},
   "source": [
    "### The basic Python datatypes:\n",
    "\n",
    "- Booleans, True or False.\n",
    "- Numbers, in Python these can be integers (44), floats (1.7), fractions (1/2 and 2/3), or even complex numbers.\n",
    "- Strings, are sequences of Unicode characters, e.g. an html document.\n",
    "- Bytes, and byte arrays, e.g. a jpeg image file.\n",
    "- Lists, are ordered sequences of values.\n",
    "- Tuples, are ordered, immutable sequences of values.\n",
    "- Sets, are unordered groups of values.\n",
    "- Dictionaries, are unordered groups of key-value pairs."
   ]
  },
  {
   "cell_type": "code",
   "execution_count": 9,
   "metadata": {
    "collapsed": false
   },
   "outputs": [
    {
     "name": "stdout",
     "output_type": "stream",
     "text": [
      "x is of type <class 'bool'> and is True\n",
      "True\n",
      "True\n"
     ]
    }
   ],
   "source": [
    "#boolean\n",
    "x = True\n",
    "print(\"x is of type\", type(x), \"and is\",  x)\n",
    "\n",
    "y = 6\n",
    "print(y < 10)\n",
    "\n",
    "z = True\n",
    "print(x == z)"
   ]
  },
  {
   "cell_type": "code",
   "execution_count": 5,
   "metadata": {
    "collapsed": false
   },
   "outputs": [
    {
     "name": "stdout",
     "output_type": "stream",
     "text": [
      "4.3 5\n",
      "5.0 this is an int converted to a float\n",
      "2 this is a float converted to an int\n",
      "7.0 operators like addition\n",
      "2.8 2\n",
      "3/4 this is a fraction\n",
      "(3+4j) (3+4j)\n"
     ]
    }
   ],
   "source": [
    "#numbers\n",
    "#int\n",
    "a = 5\n",
    "\n",
    "#float\n",
    "b = 4.3\n",
    "print(b, a)\n",
    "\n",
    "#converting type, sometimes called casting\n",
    "a = float(5)\n",
    "b = int(2.5)\n",
    "print(a, 'this is an int converted to a float')\n",
    "print(b, 'this is a float converted to an int')\n",
    "\n",
    "#what can i do with numbers in Python\n",
    "print(a + b, 'operators like addition')\n",
    "c = 7 / 2.5\n",
    "d = 12 % 5\n",
    "print(c, d)\n",
    "\n",
    "#fraction\n",
    "from fractions import Fraction\n",
    "a = Fraction('3/4')\n",
    "print(a, 'this is a fraction')\n",
    "\n",
    "#complex numbers\n",
    "c = complex(3, 4) \n",
    "d = 3+4j\n",
    "print(c, d)"
   ]
  },
  {
   "cell_type": "code",
   "execution_count": 11,
   "metadata": {
    "collapsed": false
   },
   "outputs": [
    {
     "name": "stdout",
     "output_type": "stream",
     "text": [
      "['a', 5, 'b', 'word']\n",
      "5\n",
      "('b', 7, 'f', 'wonder_woman')\n"
     ]
    }
   ],
   "source": [
    "#lists and tuples\n",
    "my_list = ['a', 5, 'b', 'word']\n",
    "print(my_list)\n",
    "print(my_list[1])\n",
    "\n",
    "my_tuple = ('b', 7, 'f', 'wonder_woman')\n",
    "print(my_tuple)"
   ]
  },
  {
   "cell_type": "code",
   "execution_count": null,
   "metadata": {
    "collapsed": true
   },
   "outputs": [],
   "source": [
    "#sets\n",
    "my_set = {2, 3, 'a'}\n"
   ]
  },
  {
   "cell_type": "code",
   "execution_count": 10,
   "metadata": {
    "collapsed": false
   },
   "outputs": [
    {
     "name": "stdout",
     "output_type": "stream",
     "text": [
      "{'c': 'three', 'a': 'one', 'b': 'two'}\n"
     ]
    }
   ],
   "source": [
    "#dictionaries\n",
    "my_dict = {'a':'one', 'b':'two', 'c':'three'}\n",
    "print(my_dict)"
   ]
  }
 ],
 "metadata": {
  "kernelspec": {
   "display_name": "Python 3",
   "language": "python",
   "name": "python3"
  },
  "language_info": {
   "codemirror_mode": {
    "name": "ipython",
    "version": 3
   },
   "file_extension": ".py",
   "mimetype": "text/x-python",
   "name": "python",
   "nbconvert_exporter": "python",
   "pygments_lexer": "ipython3",
   "version": "3.5.1"
  }
 },
 "nbformat": 4,
 "nbformat_minor": 0
}
